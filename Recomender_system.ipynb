{
 "cells": [
  {
   "cell_type": "markdown",
   "id": "f35b4f48-7fb8-4957-84f7-6e5750f0c38d",
   "metadata": {},
   "source": [
    "# Install and load necesary packages"
   ]
  },
  {
   "cell_type": "code",
   "execution_count": 1,
   "id": "b2b15118-de76-4a63-a3ec-a3f45616fbd2",
   "metadata": {},
   "outputs": [],
   "source": [
    "# Please don't change this cell\n",
    "\n",
    "import pandas as pd\n",
    "import numpy as np  \n",
    "\n",
    "import warnings\n",
    "warnings.filterwarnings(\"ignore\")"
   ]
  },
  {
   "cell_type": "markdown",
   "id": "12c496a5-df6d-4838-93e9-59c2ed4df088",
   "metadata": {},
   "source": [
    "## Load the dataset using pandas"
   ]
  },
  {
   "cell_type": "code",
   "execution_count": 2,
   "id": "fab3d257-297a-42e4-9ef0-6771fd30358a",
   "metadata": {},
   "outputs": [
    {
     "data": {
      "text/html": [
       "<div>\n",
       "<style scoped>\n",
       "    .dataframe tbody tr th:only-of-type {\n",
       "        vertical-align: middle;\n",
       "    }\n",
       "\n",
       "    .dataframe tbody tr th {\n",
       "        vertical-align: top;\n",
       "    }\n",
       "\n",
       "    .dataframe thead th {\n",
       "        text-align: right;\n",
       "    }\n",
       "</style>\n",
       "<table border=\"1\" class=\"dataframe\">\n",
       "  <thead>\n",
       "    <tr style=\"text-align: right;\">\n",
       "      <th></th>\n",
       "      <th>user_id</th>\n",
       "      <th>item_id</th>\n",
       "      <th>rating</th>\n",
       "      <th>timestamp</th>\n",
       "    </tr>\n",
       "  </thead>\n",
       "  <tbody>\n",
       "    <tr>\n",
       "      <th>0</th>\n",
       "      <td>196</td>\n",
       "      <td>242</td>\n",
       "      <td>3</td>\n",
       "      <td>881250949</td>\n",
       "    </tr>\n",
       "    <tr>\n",
       "      <th>1</th>\n",
       "      <td>186</td>\n",
       "      <td>302</td>\n",
       "      <td>3</td>\n",
       "      <td>891717742</td>\n",
       "    </tr>\n",
       "    <tr>\n",
       "      <th>2</th>\n",
       "      <td>22</td>\n",
       "      <td>377</td>\n",
       "      <td>1</td>\n",
       "      <td>878887116</td>\n",
       "    </tr>\n",
       "    <tr>\n",
       "      <th>3</th>\n",
       "      <td>244</td>\n",
       "      <td>51</td>\n",
       "      <td>2</td>\n",
       "      <td>880606923</td>\n",
       "    </tr>\n",
       "    <tr>\n",
       "      <th>4</th>\n",
       "      <td>166</td>\n",
       "      <td>346</td>\n",
       "      <td>1</td>\n",
       "      <td>886397596</td>\n",
       "    </tr>\n",
       "  </tbody>\n",
       "</table>\n",
       "</div>"
      ],
      "text/plain": [
       "   user_id  item_id  rating  timestamp\n",
       "0      196      242       3  881250949\n",
       "1      186      302       3  891717742\n",
       "2       22      377       1  878887116\n",
       "3      244       51       2  880606923\n",
       "4      166      346       1  886397596"
      ]
     },
     "execution_count": 2,
     "metadata": {},
     "output_type": "execute_result"
    }
   ],
   "source": [
    "# Please don't change this cell\n",
    "df = pd.read_csv('ml-100k/u.data', names=['user_id', 'item_id', 'rating', 'timestamp'], sep='\\t')\n",
    "\n",
    "df.head()"
   ]
  },
  {
   "cell_type": "markdown",
   "id": "8443bc64-6256-4f39-a892-19fd6fd105a0",
   "metadata": {},
   "source": [
    "# Split dataset\n"
   ]
  },
  {
   "cell_type": "markdown",
   "id": "639b70f3-da86-4492-ad1d-054842f1123d",
   "metadata": {},
   "source": [
    "## Randomly select one rating from each user as test set"
   ]
  },
  {
   "cell_type": "code",
   "execution_count": 3,
   "id": "52cfa457-e512-4218-9554-ff98c29edf9c",
   "metadata": {},
   "outputs": [
    {
     "name": "stdout",
     "output_type": "stream",
     "text": [
      "943 users\n",
      "1682 items\n",
      "Construct the rating matrix based on train_df:\n",
      "[[0. 3. 4. ... 0. 0. 0.]\n",
      " [4. 0. 0. ... 0. 0. 0.]\n",
      " [0. 0. 0. ... 0. 0. 0.]\n",
      " ...\n",
      " [5. 0. 0. ... 0. 0. 0.]\n",
      " [0. 0. 0. ... 0. 0. 0.]\n",
      " [0. 5. 0. ... 0. 0. 0.]]\n",
      "Construct the rating matrix based on test_df:\n",
      "[[5. 0. 0. ... 0. 0. 0.]\n",
      " [0. 0. 0. ... 0. 0. 0.]\n",
      " [0. 0. 0. ... 0. 0. 0.]\n",
      " ...\n",
      " [0. 0. 0. ... 0. 0. 0.]\n",
      " [0. 0. 0. ... 0. 0. 0.]\n",
      " [0. 0. 0. ... 0. 0. 0.]]\n",
      "Testsize = 17678\n"
     ]
    }
   ],
   "source": [
    "# please do not change this cell\n",
    "\n",
    "from sklearn.model_selection import train_test_split\n",
    "\n",
    "n_users = df.user_id.unique().shape[0]\n",
    "n_items = df.item_id.unique().shape[0]\n",
    "print(str(n_users) + ' users')\n",
    "print(str(n_items) + ' items')\n",
    "\n",
    "train_df, test_df = train_test_split(df, test_size=0.2, random_state = 10)\n",
    "train_df, test_df\n",
    "\n",
    "# Training Dataset\n",
    "train_ds = np.zeros((n_users, n_items))\n",
    "item_popularity = np.zeros(n_items)\n",
    "for row in train_df.itertuples():\n",
    "    train_ds[row[1]-1, row[2]-1] = row[3]\n",
    "    item_popularity[row[2]-1] =  item_popularity[row[2]-1] + 1\n",
    "#train_ds = pd.DataFrame(train_ds)\n",
    "\n",
    "# Testing Dataset\n",
    "testsize = 0\n",
    "test_ds = np.zeros((n_users, n_items))\n",
    "for row in test_df.itertuples():\n",
    "    if item_popularity[row[2]-1] > 30:\n",
    "        test_ds[row[1]-1, row[2]-1] = row[3]\n",
    "        testsize = testsize + 1\n",
    "#test_ds = pd.DataFrame(test_ds)\n",
    "\n",
    "print(\"Construct the rating matrix based on train_df:\")\n",
    "print(train_ds)\n",
    "\n",
    "print(\"Construct the rating matrix based on test_df:\")\n",
    "print(test_ds)\n",
    "\n",
    "print(\"Testsize = \" + str(testsize))"
   ]
  },
  {
   "cell_type": "markdown",
   "id": "2327db3f-c8c4-4d5d-a1d0-a7e762118a49",
   "metadata": {},
   "source": [
    "# MAE and RMSE Utils"
   ]
  },
  {
   "cell_type": "code",
   "execution_count": 4,
   "id": "0ac15b08-ee5a-4d8a-a5a9-fed6917b9104",
   "metadata": {},
   "outputs": [],
   "source": [
    "# Please don't change this cell\n",
    "# you can use this devaluate Utils here, and you can also implement your own MAE and RMSE calculation. \n",
    "\n",
    "EPSILON = 1e-9\n",
    "\n",
    "def evaluate(test_ds, predicted_ds):\n",
    "    '''\n",
    "    Function for evaluating on MAE and RMSE\n",
    "    '''\n",
    "    # MAE\n",
    "    mask_test_ds = test_ds > 0\n",
    "    MAE = np.sum(np.abs(test_ds[mask_test_ds] - predicted_ds[mask_test_ds])) / np.sum(mask_test_ds.astype(np.float32))\n",
    "\n",
    "    # RMSE\n",
    "    RMSE = np.sqrt(np.sum(np.square(test_ds[mask_test_ds] - predicted_ds[mask_test_ds])) / np.sum(mask_test_ds.astype(np.float32)))\n",
    "\n",
    "    return MAE, RMSE"
   ]
  },
  {
   "cell_type": "code",
   "execution_count": 5,
   "id": "be6d9f5a",
   "metadata": {},
   "outputs": [
    {
     "data": {
      "text/plain": [
       "(943, 1682)"
      ]
     },
     "execution_count": 5,
     "metadata": {},
     "output_type": "execute_result"
    }
   ],
   "source": [
    "train_ds.shape"
   ]
  },
  {
   "cell_type": "markdown",
   "id": "7f2a51a1-19ab-4a11-b3d3-e046b0051e1a",
   "metadata": {},
   "source": [
    "# Your Solution for Method 1"
   ]
  },
  {
   "cell_type": "code",
   "execution_count": 6,
   "id": "61330a1d-7092-4b12-86b0-2d7a60d6f4e3",
   "metadata": {},
   "outputs": [
    {
     "name": "stdout",
     "output_type": "stream",
     "text": [
      "MAE: 0.8259\n",
      "RMSE: 1.0311\n"
     ]
    }
   ],
   "source": [
    "# Write your code here for Method 1\n",
    "# You are required to implement the required solution 1 here. \n",
    "# Then, evaluate your implementation by predicting the ratings in the test set (test_ds).\n",
    "# Finally, save the corresponding MAE and RMSE of your implementation \n",
    "# into the following defined corresponding variable. \n",
    "\n",
    "#Calculate average rating for each user\n",
    "user_averages = []\n",
    "for i in range(train_ds.shape[0]):  # Loop through users\n",
    "    ratings = train_ds[i]\n",
    "    rated = ratings[ratings > 0]  # Consider only non-zero ratings\n",
    "    \n",
    "    if rated.size > 0:\n",
    "        avg = np.mean(rated)\n",
    "    else:\n",
    "        avg = 0  # You can also use np.nan or global average if preferred\n",
    "    \n",
    "    user_averages.append(avg)\n",
    "\n",
    "user_averages = np.array(user_averages)\n",
    "\n",
    "# Predict ratings using user averages \n",
    "# Following the rule: ˆra,i = ¯ua (user a's average)\n",
    "\n",
    "predicted_ds = []\n",
    "for i in range(test_ds.shape[0]):  # Loop through users\n",
    "    row = []\n",
    "    for j in range(test_ds.shape[1]):  # Loop through items\n",
    "        if test_ds[i][j] > 0:  # Only predict for actual test ratings\n",
    "            row.append(user_averages[i])\n",
    "        else:\n",
    "            row.append(0)  # Leave unrated items as 0\n",
    "    predicted_ds.append(row)\n",
    "\n",
    "predicted_ds = np.array(predicted_ds)\n",
    "\n",
    "\n",
    "MAE_solution1, RMSE_solution1 = evaluate(test_ds, predicted_ds)\n",
    "\n",
    "print(f\"MAE: {MAE_solution1:.4f}\")\n",
    "print(f\"RMSE: {RMSE_solution1:.4f}\")\n",
    "\n",
    "        \n",
    "\n",
    "MAE_solution1 = 0.8258905090105331 # 0 is an intial value, you need to update this with the actual perofrmance of your implementation.\n",
    "RMSE_solution1 = 1.031143070595138 # 0 is an intial value, you need to update this with the actual perofrmance of your implementation.\n",
    "\n"
   ]
  },
  {
   "cell_type": "code",
   "execution_count": 7,
   "id": "cec8efe6-8214-46de-acce-6b5bf24c245a",
   "metadata": {},
   "outputs": [
    {
     "name": "stdout",
     "output_type": "stream",
     "text": [
      "===================== The MAE and RMSE of Your Implementation =====================\n",
      "MAE: 0.8258905090105331, RMSE: 1.031143070595138\n"
     ]
    }
   ],
   "source": [
    "# Please don't change this cell\n",
    "\n",
    "print(\"===================== The MAE and RMSE of Your Implementation =====================\")\n",
    "print(\"MAE: {}, RMSE: {}\" .format(MAE_solution1, RMSE_solution1))"
   ]
  },
  {
   "cell_type": "markdown",
   "id": "ed1b9cc5-6fa4-48c6-8a44-edd6d9a8729d",
   "metadata": {},
   "source": [
    "# Your Solution for Method 2"
   ]
  },
  {
   "cell_type": "code",
   "execution_count": 8,
   "id": "be5ec1b4-5825-4c05-a950-04a4ae7300bd",
   "metadata": {
    "scrolled": false
   },
   "outputs": [
    {
     "name": "stdout",
     "output_type": "stream",
     "text": [
      "MAE: 0.7961\n",
      "RMSE: 1.0013\n"
     ]
    }
   ],
   "source": [
    "# Write your code here for Method 2\n",
    "# You are required to implement the required solution 1 here. \n",
    "# Then, evaluate your implementation by predicting the ratings in the test set (test_ds).\n",
    "# Finally, save the corresponding MAE and RMSE of your implementation \n",
    "# into the following defined corresponding variable. \n",
    "\n",
    "# Item Average\n",
    "# Ratings are numbers or 0 if not rated\n",
    "\n",
    "# Calculate average rating for each item\n",
    "item_averages = []\n",
    "for i in range(train_ds.shape[1]):  # Loop through items (columns)\n",
    "    ratings = train_ds[:, i]  # Get all ratings for item i\n",
    "    rated = ratings[ratings > 0]  # Consider only non-zero ratings\n",
    "    \n",
    "    if rated.size > 0:\n",
    "        avg = np.mean(rated)\n",
    "    else:\n",
    "        avg = 0  # You can also use np.nan or global average if preferred\n",
    "    \n",
    "    item_averages.append(avg)\n",
    "item_averages = np.array(item_averages)\n",
    "\n",
    "# Predict ratings using item averages \n",
    "# Following the rule: ˆra,i = t̄i (item i's average)\n",
    "predicted_ds = []\n",
    "for i in range(test_ds.shape[0]):  # Loop through users\n",
    "    row = []\n",
    "    for j in range(test_ds.shape[1]):  # Loop through items\n",
    "        if test_ds[i][j] > 0:  # Only predict for actual test ratings\n",
    "            row.append(item_averages[j])  # Use item j's average rating\n",
    "        else:\n",
    "            row.append(0)  # Leave unrated items as 0\n",
    "    predicted_ds.append(row)\n",
    "predicted_ds = np.array(predicted_ds)\n",
    "\n",
    "MAE_solution2, RMSE_solution2 = evaluate(test_ds, predicted_ds)\n",
    "print(f\"MAE: {MAE_solution2:.4f}\")\n",
    "print(f\"RMSE: {RMSE_solution2:.4f}\")\n",
    "    \n",
    "\n",
    "\n",
    "\n",
    "# Average rating of movie and model trainig and testing \n",
    "MAE_solution2 = 0.7961 # 0 is an intial value, you need to update this with the actual perofrmance of your implementation.\n",
    "RMSE_solution2 = 1.0013 # 0 is an intial value, you need to update this with the actual perofrmance of your implementation.\n"
   ]
  },
  {
   "cell_type": "code",
   "execution_count": 9,
   "id": "95dc2f56-5802-420c-aa87-3ed5d89ea030",
   "metadata": {},
   "outputs": [
    {
     "name": "stdout",
     "output_type": "stream",
     "text": [
      "===================== The MAE and RMSE of Your Implementation =====================\n",
      "MAE: 0.7961, RMSE: 1.0013\n"
     ]
    }
   ],
   "source": [
    "# Please don't change this cell\n",
    "\n",
    "print(\"===================== The MAE and RMSE of Your Implementation =====================\")\n",
    "print(\"MAE: {}, RMSE: {}\" .format(MAE_solution2, RMSE_solution2))"
   ]
  },
  {
   "cell_type": "markdown",
   "id": "c9281c64-c5e2-451b-a69a-2d9965271093",
   "metadata": {},
   "source": [
    "# Your Solution for Method 3"
   ]
  },
  {
   "cell_type": "code",
   "execution_count": 10,
   "id": "2e1209c4-3c44-4e88-814c-0c8afaac0cad",
   "metadata": {},
   "outputs": [
    {
     "name": "stdout",
     "output_type": "stream",
     "text": [
      "Calculating user-user similarities...\n",
      "Making predictions...\n",
      "Method 3 (User KNN) Results:\n",
      "MAE: 0.8737\n",
      "RMSE: 1.1399\n",
      "K value used: 5\n"
     ]
    }
   ],
   "source": [
    "# Write your code here for Method 3\n",
    "# You are required to implement the required solution 1 here. \n",
    "# Then, evaluate your implementation by predicting the ratings in the test set (test_ds).\n",
    "# Finally, save the corresponding MAE and RMSE of your implementation \n",
    "# into the following defined corresponding variable. \n",
    "\n",
    "# User KNN based \n",
    "# Calculate User-User Similarity Matrix \n",
    "Delta = 25\n",
    "EPSILON = 1e-9\n",
    "K = 5  # Number of nearest neighbors to consider\n",
    "\n",
    "# Initialize user-user similarity matrix\n",
    "np_user_pearson_corr = np.zeros((n_users, n_users))\n",
    "\n",
    "print(\"Calculating user-user similarities...\")\n",
    "for i in range(n_users):\n",
    "    for j in range(n_users):\n",
    "        if i == j:\n",
    "            np_user_pearson_corr[i, j] = 1.0  # Perfect similarity with self\n",
    "            continue\n",
    "        \n",
    "        # Find items rated by both users\n",
    "        mask_i = train_ds[i] > 0\n",
    "        mask_j = train_ds[j] > 0\n",
    "        common_items = np.where(mask_i & mask_j)[0]\n",
    "        \n",
    "        if len(common_items) == 0:\n",
    "            continue  # No common items rated\n",
    "        \n",
    "        # Get ratings for common items\n",
    "        user_i_ratings = train_ds[i, common_items]\n",
    "        user_j_ratings = train_ds[j, common_items]\n",
    "        \n",
    "        # Calculate Pearson correlation\n",
    "        mean_i = np.mean(user_i_ratings)\n",
    "        mean_j = np.mean(user_j_ratings)\n",
    "        \n",
    "        numerator = np.sum((user_i_ratings - mean_i) * (user_j_ratings - mean_j))\n",
    "        denominator = np.sqrt(np.sum((user_i_ratings - mean_i)**2)) * np.sqrt(np.sum((user_j_ratings - mean_j)**2))\n",
    "        \n",
    "        if denominator == 0:\n",
    "            sim = 0\n",
    "        else:\n",
    "            sim = numerator / (denominator + EPSILON)\n",
    "        \n",
    "        # Apply significance weighting\n",
    "        weighted_sim = (min(len(common_items), Delta) / Delta) * sim\n",
    "        np_user_pearson_corr[i, j] = weighted_sim\n",
    "\n",
    "# Predict Ratings for Test Set\n",
    "print(\"Making predictions...\")\n",
    "\n",
    "# Initialize prediction matrix\n",
    "predicted_ds = np.zeros_like(test_ds)\n",
    "\n",
    "# Pre-calculate user averages for fallback\n",
    "user_averages = np.sum(train_ds, axis=1) / (np.sum(train_ds > 0, axis=1) + EPSILON)\n",
    "\n",
    "for user_idx in range(test_ds.shape[0]):\n",
    "    for item_idx in range(test_ds.shape[1]):\n",
    "        # Only predict for ratings that exist in test set\n",
    "        if test_ds[user_idx, item_idx] > 0:\n",
    "            \n",
    "            # Find K most similar users\n",
    "            similarities = np_user_pearson_corr[user_idx]\n",
    "            neighbor_indices = np.argsort(similarities)[-(K+1):-1][::-1]  # Top K, excluding self\n",
    "            \n",
    "            # Weighted sum of ratings from neighbor users\n",
    "            numerator = 0\n",
    "            denominator = 0\n",
    "            \n",
    "            for neighbor_user_idx in neighbor_indices:\n",
    "                # Check if neighbor user rated this item\n",
    "                neighbor_rating = train_ds[neighbor_user_idx, item_idx]\n",
    "                if neighbor_rating > 0:\n",
    "                    neighbor_similarity = np_user_pearson_corr[user_idx, neighbor_user_idx]\n",
    "                    \n",
    "                    # Use absolute similarity for weighting\n",
    "                    denominator += abs(neighbor_similarity)\n",
    "                    numerator += neighbor_similarity * neighbor_rating\n",
    "            \n",
    "            # Make prediction\n",
    "            if denominator > 0:\n",
    "                prediction = numerator / denominator\n",
    "            else:\n",
    "                # Fallback: Use user's average rating\n",
    "                prediction = user_averages[user_idx]\n",
    "            \n",
    "            predicted_ds[user_idx, item_idx] = prediction\n",
    "\n",
    "# Evaluate Predictions\n",
    "# Clip predictions to valid range [1, 5]\n",
    "predicted_ds = np.clip(predicted_ds, 1, 5)\n",
    "\n",
    "# Evaluate using provided function\n",
    "MAE_solution3, RMSE_solution3 = evaluate(test_ds, predicted_ds)\n",
    "\n",
    "print(f\"Method 3 (User KNN) Results:\")\n",
    "print(f\"MAE: {MAE_solution3:.4f}\")\n",
    "print(f\"RMSE: {RMSE_solution3:.4f}\")\n",
    "print(f\"K value used: {K}\")\n",
    "\n",
    "# Store best user prediction for Method 5\n",
    "best_user_prediction = predicted_ds.copy()\n",
    "\n",
    "\n",
    "MAE_solution3 = 0.8737 # 0 is an intial value, you need to update this with the actual perofrmance of your implementation.\n",
    "RMSE_solution3 = 1.1399 # 0 is an intial value, you need to update this with the actual perofrmance of your implementation.\n"
   ]
  },
  {
   "cell_type": "code",
   "execution_count": 11,
   "id": "4f517513-1805-4a3e-ad30-09fdb19bdeab",
   "metadata": {},
   "outputs": [
    {
     "name": "stdout",
     "output_type": "stream",
     "text": [
      "===================== The MAE and RMSE of Your Implementation =====================\n",
      "MAE: 0.8737, RMSE: 1.1399\n"
     ]
    }
   ],
   "source": [
    "# Please don't change this cell\n",
    "\n",
    "print(\"===================== The MAE and RMSE of Your Implementation =====================\")\n",
    "print(\"MAE: {}, RMSE: {}\" .format(MAE_solution3, RMSE_solution3))"
   ]
  },
  {
   "cell_type": "markdown",
   "id": "06dfa165-49ce-4bb2-96a8-a86ab58705d4",
   "metadata": {},
   "source": [
    "# Your Solution for Method 4"
   ]
  },
  {
   "cell_type": "code",
   "execution_count": 12,
   "id": "413fb7bf-0efa-4fe0-8f5c-874db8f531fb",
   "metadata": {},
   "outputs": [
    {
     "name": "stdout",
     "output_type": "stream",
     "text": [
      "Calculating item similarities...\n",
      "K value used: 5\n",
      "MAE from running0.8574358073342582\n",
      "RMSE from running1.1357385666743622\n"
     ]
    }
   ],
   "source": [
    "# Write your code here for Method 4\n",
    "# You are required to implement the required solution 1 here. \n",
    "# Then, evaluate your implementation by predicting the ratings in the test set (test_ds).\n",
    "# Finally, save the corresponding MAE and RMSE of your implementation \n",
    "# into the following defined corresponding variable. \n",
    "\n",
    "# Item KNN based\n",
    "Delta = 25 \n",
    "EPSILON = 1e-9\n",
    "K = 5\n",
    "\n",
    "# Similarity Matrix\n",
    "np_item_pearson_corr = np.zeros((n_items, n_items))  # Pearson Correlation \n",
    "\n",
    "# Now lets transpose the training matrix to iterate over items\n",
    "train_items_ds = train_ds.T  # Reshaping\n",
    "print(\"Calculating item similarities...\")\n",
    "# Loop for similarity calculation\n",
    "for i, item_i_ratings in enumerate(train_items_ds):  # Enumerate returns data and rows\n",
    "    for j, item_j_ratings in enumerate(train_items_ds):  # Creates possible item pairs\n",
    "        if i == j:\n",
    "            np_item_pearson_corr[i, j] = 1.0  # Highly likely\n",
    "            continue\n",
    "        \n",
    "        # users who have rated both items\n",
    "        mask_i = item_i_ratings > 0 \n",
    "        mask_j = item_j_ratings > 0   # Mask for item i, j \n",
    "        \n",
    "        corrated_user_indices = np.where(mask_i & mask_j)[0]  # Finds users who rated both I and J\n",
    "        if len(corrated_user_indices) == 0:\n",
    "            continue    # Skips if no users rated that item \n",
    "            \n",
    "        # Extract Co-rated Values\n",
    "        item_i_corated = item_i_ratings[corrated_user_indices]\n",
    "        item_j_corated = item_j_ratings[corrated_user_indices]\n",
    "        \n",
    "        # pearson calculation\n",
    "        mean_i = np.mean(item_i_corated)  # Average of i value \n",
    "        mean_j = np.mean(item_j_corated)  # Average of j VALUE\n",
    "        \n",
    "        numerator = np.sum((item_i_corated - mean_i) * (item_j_corated - mean_j))\n",
    "        denominator = np.sqrt(np.sum((item_i_corated - mean_i)**2)) * np.sqrt(np.sum((item_j_corated - mean_j)**2))\n",
    "        \n",
    "        # Gives us the output from 1 to -1 range close to 1 highly Likely close to -1 Dislike\n",
    "        \n",
    "        # main calculation code\n",
    "        if denominator == 0:\n",
    "            sim = 0\n",
    "        else:\n",
    "            sim = numerator / (denominator + EPSILON)\n",
    "            \n",
    "        # Weighting\n",
    "        weighted_sim = (min(len(corrated_user_indices), Delta) / Delta) * sim\n",
    "        np_item_pearson_corr[i, j] = weighted_sim  # Store the calculated weighted similarity in the matrix\n",
    "\n",
    "# Prediction\n",
    "# Now lets predict Ratings\n",
    "predicted_ds = np.zeros_like(test_ds)\n",
    "\n",
    "item_averages = np.sum(train_ds, axis=0) / (np.sum(train_ds > 0, axis=0) + EPSILON)\n",
    "\n",
    "# User prediction Loop\n",
    "for user_idx in range(test_ds.shape[0]):\n",
    "    for item_idx in range(test_ds.shape[1]):\n",
    "        if test_ds[user_idx, item_idx] > 0:  # predict ratings inside the test set\n",
    "            \n",
    "            similarities = np_item_pearson_corr[item_idx]  # Get Similarity scores\n",
    "            neighbor_indices = np.argsort(similarities)[-(K+1):-1][::-1]\n",
    "            \n",
    "            # Weighted sum of rating from neighbors\n",
    "            numerator = 0\n",
    "            denominator = 0\n",
    "            \n",
    "            for neighbor_item_idx in neighbor_indices:\n",
    "                user_rating_for_neighbor = train_ds[user_idx, neighbor_item_idx]  # Users rating for the similar item from training data\n",
    "                \n",
    "                if user_rating_for_neighbor > 0:\n",
    "                    neighbor_similarity = np_item_pearson_corr[item_idx, neighbor_item_idx]\n",
    "                    denominator += abs(neighbor_similarity)  # abs = absolute value\n",
    "                    numerator += neighbor_similarity * user_rating_for_neighbor  # Accumulate Weighted ratings\n",
    "            \n",
    "            # Prediction\n",
    "            if denominator > 0:\n",
    "                prediction = numerator / denominator\n",
    "            else:\n",
    "                prediction = item_averages[item_idx]\n",
    "                \n",
    "            predicted_ds[user_idx, item_idx] = prediction\n",
    "# MAE AND RMSE\n",
    "predicted_ds = np.clip(predicted_ds, 1, 5) \n",
    "MAE_solution4, RMSE_solution4 = evaluate(test_ds, predicted_ds)\n",
    "\n",
    "# Store for 5TH\n",
    "best_item_prediction = predicted_ds.copy()\n",
    "print(f\"K value used: {K}\")\n",
    "print(f\"MAE from running{MAE_solution4}\")\n",
    "print(f\"RMSE from running{RMSE_solution4}\")\n",
    "    \n",
    "MAE_solution4 = 0.8574358073342582 # 0 is an intial value, you need to update this with the actual perofrmance of your implementation.\n",
    "RMSE_solution4 = 1.1357385666743622 # 0 is an intial value, you need to update this with the actual perofrmance of your implementation.\n"
   ]
  },
  {
   "cell_type": "code",
   "execution_count": 13,
   "id": "47c9516a-2c5b-4783-a461-c35514975fdb",
   "metadata": {},
   "outputs": [
    {
     "name": "stdout",
     "output_type": "stream",
     "text": [
      "===================== The MAE and RMSE of Your Implementation =====================\n",
      "MAE: 0.8574358073342582, RMSE: 1.1357385666743622\n"
     ]
    }
   ],
   "source": [
    "# Please don't change this cell\n",
    "\n",
    "print(\"===================== The MAE and RMSE of Your Implementation =====================\")\n",
    "print(\"MAE: {}, RMSE: {}\" .format(MAE_solution4, RMSE_solution4))"
   ]
  },
  {
   "cell_type": "markdown",
   "id": "f82ecd8b-5248-4154-be35-139e1eb9ce1c",
   "metadata": {},
   "source": [
    "# Your Solution for Method 5"
   ]
  },
  {
   "cell_type": "code",
   "execution_count": 14,
   "id": "8b13f73f-3004-47e1-976e-6895c8e2d1a1",
   "metadata": {},
   "outputs": [
    {
     "name": "stdout",
     "output_type": "stream",
     "text": [
      "Method 5: Testing different lambda values\n",
      "----------------------------------------\n",
      "Lambda = 0.1: MAE = 0.8420, RMSE = 1.0999\n",
      "Lambda = 0.2: MAE = 0.8288, RMSE = 1.0712\n",
      "Lambda = 0.3: MAE = 0.8186, RMSE = 1.0504\n",
      "Lambda = 0.4: MAE = 0.8128, RMSE = 1.0379\n",
      "Lambda = 0.5: MAE = 0.8111, RMSE = 1.0340\n",
      "Lambda = 0.6: MAE = 0.8164, RMSE = 1.0388\n",
      "Lambda = 0.7: MAE = 0.8257, RMSE = 1.0522\n",
      "Lambda = 0.8: MAE = 0.8390, RMSE = 1.0739\n",
      "Lambda = 0.9: MAE = 0.8553, RMSE = 1.1033\n",
      "----------------------------------------\n",
      "Best: Lambda = 0.5, MAE = 0.8111, RMSE = 1.0340\n"
     ]
    }
   ],
   "source": [
    "# Write your code here for Method 5\n",
    "# You are required to implement the required solution 1 here. \n",
    "# Then, evaluate your implementation by predicting the ratings in the test set (test_ds).\n",
    "# Finally, save the corresponding MAE and RMSE of your implementation \n",
    "# into the following defined corresponding variable. \n",
    "\n",
    "# Method 5: Hybrid Collaborative Filtering\n",
    "\n",
    "\n",
    "lambda_values = [0.1, 0.2, 0.3, 0.4, 0.5, 0.6, 0.7, 0.8, 0.9]\n",
    "best_mae = float('inf')\n",
    "best_lambda = 0\n",
    "\n",
    "print(\"Method 5: Testing different lambda values\")\n",
    "print(\"-\" * 40)\n",
    "\n",
    "for lambda_val in lambda_values:\n",
    "    # Combine user and item predictions\n",
    "    combined_result = lambda_val * best_user_prediction + (1 - lambda_val) * best_item_prediction\n",
    "    combined_result = np.clip(combined_result, 1, 5)\n",
    "    \n",
    "    # Evaluate\n",
    "    MAE_solution5, RMSE_solution5 = evaluate(test_ds, combined_result)\n",
    "    print(f\"Lambda = {lambda_val:.1f}: MAE = {MAE_solution5:.4f}, RMSE = {RMSE_solution5:.4f}\")\n",
    "    \n",
    "    # Keep track of best performance\n",
    "    if MAE_solution5 < best_mae:\n",
    "        best_mae = MAE_solution5\n",
    "        best_rmse = RMSE_solution5\n",
    "        best_lambda = lambda_val\n",
    "        best_predictions = combined_result.copy()\n",
    "\n",
    "print(\"-\" * 40)\n",
    "print(f\"Best: Lambda = {best_lambda}, MAE = {best_mae:.4f}, RMSE = {best_rmse:.4f}\")\n",
    "\n",
    "\n",
    "# User item KNN based\n",
    "MAE_solution5 = best_mae # 0 is an intial value, you need to update this with the actual perofrmance of your implementation.\n",
    "RMSE_solution5 = best_rmse # 0 is an intial value, you need to update this with the actual perofrmance of your implementation.\n"
   ]
  },
  {
   "cell_type": "code",
   "execution_count": 15,
   "id": "083bdb74-5627-417a-91ea-388f9353fc8b",
   "metadata": {},
   "outputs": [
    {
     "name": "stdout",
     "output_type": "stream",
     "text": [
      "===================== The MAE and RMSE of Your Implementation =====================\n",
      "MAE: 0.8111018800910201, RMSE: 1.0340053171084422\n"
     ]
    }
   ],
   "source": [
    "# Please don't change this cell\n",
    "\n",
    "print(\"===================== The MAE and RMSE of Your Implementation =====================\")\n",
    "print(\"MAE: {}, RMSE: {}\" .format(MAE_solution5, RMSE_solution5))"
   ]
  }
 ],
 "metadata": {
  "kernelspec": {
   "display_name": "Python 3",
   "language": "python",
   "name": "python3"
  },
  "language_info": {
   "codemirror_mode": {
    "name": "ipython",
    "version": 3
   },
   "file_extension": ".py",
   "mimetype": "text/x-python",
   "name": "python",
   "nbconvert_exporter": "python",
   "pygments_lexer": "ipython3",
   "version": "3.8.20"
  }
 },
 "nbformat": 4,
 "nbformat_minor": 5
}
